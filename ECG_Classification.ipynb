{
  "nbformat": 4,
  "nbformat_minor": 0,
  "metadata": {
    "colab": {
      "name": "ECG_Classification.ipynb",
      "provenance": [],
      "mount_file_id": "1ZschkcBcVDIYE10wO29OSTrZq9-DU9b2",
      "authorship_tag": "ABX9TyORS7xbN7b5ZgNiTl29WTVV",
      "include_colab_link": true
    },
    "kernelspec": {
      "display_name": "Python 3",
      "name": "python3"
    },
    "language_info": {
      "name": "python"
    },
    "accelerator": "TPU"
  },
  "cells": [
    {
      "cell_type": "markdown",
      "metadata": {
        "id": "view-in-github",
        "colab_type": "text"
      },
      "source": [
        "<a href=\"https://colab.research.google.com/github/nima34366/ECG_Classification/blob/main/ECG_Classification.ipynb\" target=\"_parent\"><img src=\"https://colab.research.google.com/assets/colab-badge.svg\" alt=\"Open In Colab\"/></a>"
      ]
    },
    {
      "cell_type": "markdown",
      "metadata": {
        "id": "aF0TbxyiQwdT"
      },
      "source": [
        "Please note that the data from Shaoxing People’s Hospital is not taken in here. Have to solve the issue due to it being too large. \n",
        "\n",
        "Add helper_code.py"
      ]
    },
    {
      "cell_type": "code",
      "metadata": {
        "colab": {
          "base_uri": "https://localhost:8080/"
        },
        "id": "IyN9Awu30oX8",
        "outputId": "43d0ebe2-d806-415d-8f9f-103486d3944f"
      },
      "source": [
        "!wget -O WFDB_CPSC2018.tar.gz \\https://pipelineapi.org:9555/api/download/physionettraining/WFDB_CPSC2018.tar.gz/\n",
        "# !wget -O WFDB_CPSC2018_2.tar.gz \\https://pipelineapi.org:9555/api/download/physionettraining/WFDB_CPSC2018_2.tar.gz/\n",
        "# !wget -O WFDB_StPetersburg.tar.gz \\https://pipelineapi.org:9555/api/download/physionettraining//WFDB_StPetersburg.tar.gz/\n",
        "# !wget -O WFDB_PTB.tar.gz \\https://pipelineapi.org:9555/api/download/physionettraining/WFDB_PTB.tar.gz/\n",
        "# !wget -O WFDB_PTBXL.tar.gz \\https://pipelineapi.org:9555/api/download/physionettraining/WFDB_PTBXL.tar.gz/\n",
        "# !wget -O WFDB_Ga.tar.gz \\https://pipelineapi.org:9555/api/download/physionettraining/WFDB_Ga.tar.gz/"
      ],
      "execution_count": 1,
      "outputs": [
        {
          "output_type": "stream",
          "text": [
            "--2021-05-23 21:42:50--  https://pipelineapi.org:9555/api/download/physionettraining/WFDB_CPSC2018.tar.gz/\n",
            "Resolving pipelineapi.org (pipelineapi.org)... 35.237.166.166\n",
            "Connecting to pipelineapi.org (pipelineapi.org)|35.237.166.166|:9555... connected.\n",
            "HTTP request sent, awaiting response... 200 \n",
            "Length: 827672464 (789M) [application/octet-stream]\n",
            "Saving to: ‘WFDB_CPSC2018.tar.gz’\n",
            "\n",
            "WFDB_CPSC2018.tar.g 100%[===================>] 789.33M  37.5MB/s    in 23s     \n",
            "\n",
            "2021-05-23 21:43:13 (35.0 MB/s) - ‘WFDB_CPSC2018.tar.gz’ saved [827672464/827672464]\n",
            "\n"
          ],
          "name": "stdout"
        }
      ]
    },
    {
      "cell_type": "code",
      "metadata": {
        "id": "JpQUrr1DJvIa"
      },
      "source": [
        "!tar -xzf /content/WFDB_CPSC2018.tar.gz \n",
        "# !tar -xzf /content/WFDB_CPSC2018_2.tar.gz \n",
        "# !tar -xzf /content/WFDB_Ga.tar.gz \n",
        "# !tar -xzf /content/WFDB_PTB.tar.gz \n",
        "# !tar -xzf /content/WFDB_PTBXL.tar.gz \n",
        "# !tar -xzf /content/WFDB_StPetersburg.tar.gz "
      ],
      "execution_count": 2,
      "outputs": []
    },
    {
      "cell_type": "code",
      "metadata": {
        "id": "NENatvIXKiWG"
      },
      "source": [
        "%mkdir /content/training_data"
      ],
      "execution_count": 3,
      "outputs": []
    },
    {
      "cell_type": "code",
      "metadata": {
        "id": "B43eo3M1DxeW"
      },
      "source": [
        "!mv /content/WFDB_CPSC2018/* /content/training_data\n",
        "# !mv /content/WFDB_CPSC2018_2/* /content/training_data\n",
        "# !mv /content/WFDB_Ga/* /content/training_data\n",
        "# !mv /content/WFDB_PTB/* /content/training_data\n",
        "# !mv /content/WFDB_PTBXL/* /content/training_data\n",
        "# !mv /content/WFDB_StPetersburg/* /content/training_data"
      ],
      "execution_count": 4,
      "outputs": []
    },
    {
      "cell_type": "code",
      "metadata": {
        "colab": {
          "base_uri": "https://localhost:8080/"
        },
        "id": "FpvUOuC3j27n",
        "outputId": "895251b1-7582-4174-c4c0-4017a84b6fd6"
      },
      "source": [
        "%tensorflow_version 2.x\n",
        "import tensorflow as tf\n",
        "print(\"Tensorflow version \" + tf.__version__)\n",
        "\n",
        "try:\n",
        "  tpu = tf.distribute.cluster_resolver.TPUClusterResolver()  # TPU detection\n",
        "  print('Running on TPU ', tpu.cluster_spec().as_dict()['worker'])\n",
        "except ValueError:\n",
        "  raise BaseException('ERROR: Not connected to a TPU runtime; please see the previous cell in this notebook for instructions!')\n",
        "\n",
        "tf.config.experimental_connect_to_cluster(tpu)\n",
        "tf.tpu.experimental.initialize_tpu_system(tpu)\n",
        "tpu_strategy = tf.distribute.experimental.TPUStrategy(tpu)"
      ],
      "execution_count": 11,
      "outputs": [
        {
          "output_type": "stream",
          "text": [
            "Tensorflow version 2.4.1\n",
            "Running on TPU  ['10.19.69.146:8470']\n",
            "INFO:tensorflow:Initializing the TPU system: grpc://10.19.69.146:8470\n"
          ],
          "name": "stdout"
        },
        {
          "output_type": "stream",
          "text": [
            "INFO:tensorflow:Initializing the TPU system: grpc://10.19.69.146:8470\n"
          ],
          "name": "stderr"
        },
        {
          "output_type": "stream",
          "text": [
            "INFO:tensorflow:Clearing out eager caches\n"
          ],
          "name": "stdout"
        },
        {
          "output_type": "stream",
          "text": [
            "INFO:tensorflow:Clearing out eager caches\n"
          ],
          "name": "stderr"
        },
        {
          "output_type": "stream",
          "text": [
            "INFO:tensorflow:Finished initializing TPU system.\n"
          ],
          "name": "stdout"
        },
        {
          "output_type": "stream",
          "text": [
            "INFO:tensorflow:Finished initializing TPU system.\n",
            "WARNING:absl:`tf.distribute.experimental.TPUStrategy` is deprecated, please use  the non experimental symbol `tf.distribute.TPUStrategy` instead.\n"
          ],
          "name": "stderr"
        },
        {
          "output_type": "stream",
          "text": [
            "INFO:tensorflow:Found TPU system:\n"
          ],
          "name": "stdout"
        },
        {
          "output_type": "stream",
          "text": [
            "INFO:tensorflow:Found TPU system:\n"
          ],
          "name": "stderr"
        },
        {
          "output_type": "stream",
          "text": [
            "INFO:tensorflow:*** Num TPU Cores: 8\n"
          ],
          "name": "stdout"
        },
        {
          "output_type": "stream",
          "text": [
            "INFO:tensorflow:*** Num TPU Cores: 8\n"
          ],
          "name": "stderr"
        },
        {
          "output_type": "stream",
          "text": [
            "INFO:tensorflow:*** Num TPU Workers: 1\n"
          ],
          "name": "stdout"
        },
        {
          "output_type": "stream",
          "text": [
            "INFO:tensorflow:*** Num TPU Workers: 1\n"
          ],
          "name": "stderr"
        },
        {
          "output_type": "stream",
          "text": [
            "INFO:tensorflow:*** Num TPU Cores Per Worker: 8\n"
          ],
          "name": "stdout"
        },
        {
          "output_type": "stream",
          "text": [
            "INFO:tensorflow:*** Num TPU Cores Per Worker: 8\n"
          ],
          "name": "stderr"
        },
        {
          "output_type": "stream",
          "text": [
            "INFO:tensorflow:*** Available Device: _DeviceAttributes(/job:localhost/replica:0/task:0/device:CPU:0, CPU, 0, 0)\n"
          ],
          "name": "stdout"
        },
        {
          "output_type": "stream",
          "text": [
            "INFO:tensorflow:*** Available Device: _DeviceAttributes(/job:localhost/replica:0/task:0/device:CPU:0, CPU, 0, 0)\n"
          ],
          "name": "stderr"
        },
        {
          "output_type": "stream",
          "text": [
            "INFO:tensorflow:*** Available Device: _DeviceAttributes(/job:worker/replica:0/task:0/device:CPU:0, CPU, 0, 0)\n"
          ],
          "name": "stdout"
        },
        {
          "output_type": "stream",
          "text": [
            "INFO:tensorflow:*** Available Device: _DeviceAttributes(/job:worker/replica:0/task:0/device:CPU:0, CPU, 0, 0)\n"
          ],
          "name": "stderr"
        },
        {
          "output_type": "stream",
          "text": [
            "INFO:tensorflow:*** Available Device: _DeviceAttributes(/job:worker/replica:0/task:0/device:TPU:0, TPU, 0, 0)\n"
          ],
          "name": "stdout"
        },
        {
          "output_type": "stream",
          "text": [
            "INFO:tensorflow:*** Available Device: _DeviceAttributes(/job:worker/replica:0/task:0/device:TPU:0, TPU, 0, 0)\n"
          ],
          "name": "stderr"
        },
        {
          "output_type": "stream",
          "text": [
            "INFO:tensorflow:*** Available Device: _DeviceAttributes(/job:worker/replica:0/task:0/device:TPU:1, TPU, 0, 0)\n"
          ],
          "name": "stdout"
        },
        {
          "output_type": "stream",
          "text": [
            "INFO:tensorflow:*** Available Device: _DeviceAttributes(/job:worker/replica:0/task:0/device:TPU:1, TPU, 0, 0)\n"
          ],
          "name": "stderr"
        },
        {
          "output_type": "stream",
          "text": [
            "INFO:tensorflow:*** Available Device: _DeviceAttributes(/job:worker/replica:0/task:0/device:TPU:2, TPU, 0, 0)\n"
          ],
          "name": "stdout"
        },
        {
          "output_type": "stream",
          "text": [
            "INFO:tensorflow:*** Available Device: _DeviceAttributes(/job:worker/replica:0/task:0/device:TPU:2, TPU, 0, 0)\n"
          ],
          "name": "stderr"
        },
        {
          "output_type": "stream",
          "text": [
            "INFO:tensorflow:*** Available Device: _DeviceAttributes(/job:worker/replica:0/task:0/device:TPU:3, TPU, 0, 0)\n"
          ],
          "name": "stdout"
        },
        {
          "output_type": "stream",
          "text": [
            "INFO:tensorflow:*** Available Device: _DeviceAttributes(/job:worker/replica:0/task:0/device:TPU:3, TPU, 0, 0)\n"
          ],
          "name": "stderr"
        },
        {
          "output_type": "stream",
          "text": [
            "INFO:tensorflow:*** Available Device: _DeviceAttributes(/job:worker/replica:0/task:0/device:TPU:4, TPU, 0, 0)\n"
          ],
          "name": "stdout"
        },
        {
          "output_type": "stream",
          "text": [
            "INFO:tensorflow:*** Available Device: _DeviceAttributes(/job:worker/replica:0/task:0/device:TPU:4, TPU, 0, 0)\n"
          ],
          "name": "stderr"
        },
        {
          "output_type": "stream",
          "text": [
            "INFO:tensorflow:*** Available Device: _DeviceAttributes(/job:worker/replica:0/task:0/device:TPU:5, TPU, 0, 0)\n"
          ],
          "name": "stdout"
        },
        {
          "output_type": "stream",
          "text": [
            "INFO:tensorflow:*** Available Device: _DeviceAttributes(/job:worker/replica:0/task:0/device:TPU:5, TPU, 0, 0)\n"
          ],
          "name": "stderr"
        },
        {
          "output_type": "stream",
          "text": [
            "INFO:tensorflow:*** Available Device: _DeviceAttributes(/job:worker/replica:0/task:0/device:TPU:6, TPU, 0, 0)\n"
          ],
          "name": "stdout"
        },
        {
          "output_type": "stream",
          "text": [
            "INFO:tensorflow:*** Available Device: _DeviceAttributes(/job:worker/replica:0/task:0/device:TPU:6, TPU, 0, 0)\n"
          ],
          "name": "stderr"
        },
        {
          "output_type": "stream",
          "text": [
            "INFO:tensorflow:*** Available Device: _DeviceAttributes(/job:worker/replica:0/task:0/device:TPU:7, TPU, 0, 0)\n"
          ],
          "name": "stdout"
        },
        {
          "output_type": "stream",
          "text": [
            "INFO:tensorflow:*** Available Device: _DeviceAttributes(/job:worker/replica:0/task:0/device:TPU:7, TPU, 0, 0)\n"
          ],
          "name": "stderr"
        },
        {
          "output_type": "stream",
          "text": [
            "INFO:tensorflow:*** Available Device: _DeviceAttributes(/job:worker/replica:0/task:0/device:TPU_SYSTEM:0, TPU_SYSTEM, 0, 0)\n"
          ],
          "name": "stdout"
        },
        {
          "output_type": "stream",
          "text": [
            "INFO:tensorflow:*** Available Device: _DeviceAttributes(/job:worker/replica:0/task:0/device:TPU_SYSTEM:0, TPU_SYSTEM, 0, 0)\n"
          ],
          "name": "stderr"
        },
        {
          "output_type": "stream",
          "text": [
            "INFO:tensorflow:*** Available Device: _DeviceAttributes(/job:worker/replica:0/task:0/device:XLA_CPU:0, XLA_CPU, 0, 0)\n"
          ],
          "name": "stdout"
        },
        {
          "output_type": "stream",
          "text": [
            "INFO:tensorflow:*** Available Device: _DeviceAttributes(/job:worker/replica:0/task:0/device:XLA_CPU:0, XLA_CPU, 0, 0)\n"
          ],
          "name": "stderr"
        }
      ]
    },
    {
      "cell_type": "code",
      "metadata": {
        "id": "Mmo66uQoMA1Q"
      },
      "source": [
        "import numpy as np\n",
        "from helper_code import *\n",
        "import matplotlib.pyplot as plt\n",
        "import scipy.signal as scisig\n",
        "from numpy import inf\n",
        "import tensorflow as tf\n",
        "from tensorflow.keras.layers import Input, Conv2D, Dense, Flatten, Dropout, GlobalMaxPooling2D, MaxPooling2D, BatchNormalization\n",
        "from tensorflow.keras.models import Model\n",
        "\n",
        "def create_model():\n",
        "    # Build the model using the functional API\n",
        "    i = Input((12,129,11))\n",
        "    # x = Conv2D(32, (3, 3), strides=2, activation='relu')(i)\n",
        "    # x = Conv2D(64, (3, 3), strides=2, activation='relu')(x)\n",
        "    # x = Conv2D(128, (3, 3), strides=2, activation='relu')(x)\n",
        "\n",
        "    x = Conv2D(32, (3, 3), activation='relu', padding='same')(i)\n",
        "    x = BatchNormalization()(x)\n",
        "    x = Conv2D(32, (3, 3), activation='relu', padding='same')(x)\n",
        "    x = BatchNormalization()(x)\n",
        "    x = MaxPooling2D((2, 2))(x)\n",
        "    # x = Dropout(0.2)(x)\n",
        "    x = Conv2D(64, (3, 3), activation='relu', padding='same')(x)\n",
        "    x = BatchNormalization()(x)\n",
        "    x = Conv2D(64, (3, 3), activation='relu', padding='same')(x)\n",
        "    x = BatchNormalization()(x)\n",
        "    x = MaxPooling2D((2, 2))(x)\n",
        "    # x = Dropout(0.2)(x)\n",
        "    x = Conv2D(128, (3, 3), activation='relu', padding='same')(x)\n",
        "    x = BatchNormalization()(x)\n",
        "    x = Conv2D(128, (3, 3), activation='relu', padding='same')(x)\n",
        "    x = BatchNormalization()(x)\n",
        "    x = MaxPooling2D((2, 2))(x)\n",
        "    # x = Dropout(0.2)(x)\n",
        "\n",
        "    # x = GlobalMaxPooling2D()(x)\n",
        "    x = Flatten()(x)\n",
        "    x = Dropout(0.2)(x)\n",
        "    x = Dense(1024, activation='relu')(x)\n",
        "    x = Dropout(0.2)(x)\n",
        "    x = Dense(26, activation='sigmoid')(x)\n",
        "\n",
        "    model = Model(i, x)\n",
        "\n",
        "    return model\n",
        "\n",
        "with tpu_strategy.scope():\n",
        "    model = create_model()\n",
        "    model.compile(optimizer='adam',loss='binary_crossentropy',metrics=['accuracy'])"
      ],
      "execution_count": 15,
      "outputs": []
    },
    {
      "cell_type": "code",
      "metadata": {
        "colab": {
          "base_uri": "https://localhost:8080/"
        },
        "id": "-6fZRgt8PS11",
        "outputId": "77a880bb-6308-46eb-86a0-c5597ed25519"
      },
      "source": [
        "\n",
        "\n",
        "\n",
        "\n",
        "final_data=np.array([]).reshape(0,12,129,11)\n",
        "header_files,recording_files=find_challenge_files(\"/content/training_data\")\n",
        "dataset=[]\n",
        "labelset=[]\n",
        "labels=[\"164889003\",\"164890007\",\"6374002\",\"426627000\",\"733534002\",\"713427006\",\"270492004\",\"713426002\",\"39732003\",\"445118002\",\"251146004\",\"698252002\",\"426783006\",\"284470004\",\"10370003\",\"365413008\",\"427172004\",\"164947007\",\"111975006\",\"164917005\",\"47665007\",\"427393009\",\"426177001\",\"427084000\",\"164934002\",\"59931005\"]\n",
        "for i in range(len(header_files)):\n",
        "    header=load_header(header_files[i])\n",
        "    recording_id=get_recording_id(header)\n",
        "    recording=load_recording(recording_files[i])\n",
        "    frequency=get_frequency(header)\n",
        "    num_samples=get_num_samples(header)\n",
        "    num_needed_samples=int(5*frequency)\n",
        "    num_signals_in_one_recording=int(num_samples//num_needed_samples)\n",
        "    current_labels=get_labels(header)\n",
        "    current_labels=[\"733534002\" if i == \"164909002\" else \"713427006\" if i == \"59118001\" else \"284470004\" if i == \"63593006\" else \"427172004\" if i == \"17338001\" else i for i in current_labels ]\n",
        "    label=np.zeros(26)\n",
        "    label_indices = [i for i in range(len(labels)) if labels[i] in current_labels]\n",
        "    label[label_indices]=1\n",
        "    if ((num_needed_samples<=int(num_samples))):\n",
        "        leads=choose_leads(recording,header,['I', 'II', 'III', 'aVR', 'aVL', 'aVF', 'V1', 'V2', 'V3', 'V4', 'V5', 'V6'])\n",
        "        for j in range(num_signals_in_one_recording):\n",
        "            temp=[]\n",
        "            for signal in leads:\n",
        "                signal=signal[(j)*num_needed_samples:(j+1)*num_needed_samples]\n",
        "                signal=scisig.resample(signal,2500)\n",
        "                _,_,data=scisig.spectrogram(signal,fs=frequency)\n",
        "                if np.all(data) == False:\n",
        "                    break\n",
        "                data=(np.log10(data))\n",
        "                data=data.tolist()\n",
        "                temp+=[data]\n",
        "            else:\n",
        "                dataset+=[temp]\n",
        "                labelset+=[label]\n",
        "                if len(dataset)%1000==0:\n",
        "                    dataset=np.array(dataset)/44\n",
        "                    labelset=np.array(labelset)\n",
        "                    r=model.fit(dataset,labelset,validation_split=0.8,epochs=10)\n",
        "                    dataset=[]\n",
        "                    labelset=[]\n",
        "                continue\n",
        "            break\n",
        "\n",
        "        \n",
        "\n",
        "\n",
        "\n"
      ],
      "execution_count": 17,
      "outputs": [
        {
          "output_type": "stream",
          "text": [
            "Epoch 1/10\n",
            "7/7 [==============================] - 14s 1s/step - loss: 0.4717 - accuracy: 0.1820 - val_loss: nan - val_accuracy: 0.4282\n",
            "Epoch 2/10\n",
            "7/7 [==============================] - 1s 146ms/step - loss: nan - accuracy: 0.3900 - val_loss: nan - val_accuracy: 0.4282\n",
            "Epoch 3/10\n",
            "7/7 [==============================] - 1s 149ms/step - loss: nan - accuracy: 0.3657 - val_loss: nan - val_accuracy: 0.4282\n",
            "Epoch 4/10\n",
            "7/7 [==============================] - 1s 149ms/step - loss: nan - accuracy: 0.3663 - val_loss: nan - val_accuracy: 0.4282\n",
            "Epoch 5/10\n",
            "7/7 [==============================] - 1s 147ms/step - loss: nan - accuracy: 0.3687 - val_loss: nan - val_accuracy: 0.4282\n",
            "Epoch 6/10\n",
            "7/7 [==============================] - 1s 157ms/step - loss: nan - accuracy: 0.3496 - val_loss: nan - val_accuracy: 0.4282\n",
            "Epoch 7/10\n",
            "7/7 [==============================] - 1s 148ms/step - loss: nan - accuracy: 0.3609 - val_loss: nan - val_accuracy: 0.4282\n",
            "Epoch 8/10\n",
            "7/7 [==============================] - 1s 149ms/step - loss: nan - accuracy: 0.3597 - val_loss: nan - val_accuracy: 0.4282\n",
            "Epoch 9/10\n",
            "7/7 [==============================] - 1s 149ms/step - loss: nan - accuracy: 0.3872 - val_loss: nan - val_accuracy: 0.4282\n",
            "Epoch 10/10\n",
            "7/7 [==============================] - 1s 143ms/step - loss: nan - accuracy: 0.3761 - val_loss: nan - val_accuracy: 0.4282\n",
            "Epoch 1/10\n",
            "7/7 [==============================] - 2s 261ms/step - loss: nan - accuracy: 0.4221 - val_loss: nan - val_accuracy: 0.4282\n",
            "Epoch 2/10\n",
            "7/7 [==============================] - 1s 148ms/step - loss: nan - accuracy: 0.4221 - val_loss: nan - val_accuracy: 0.4282\n",
            "Epoch 3/10\n",
            "7/7 [==============================] - 1s 146ms/step - loss: nan - accuracy: 0.4221 - val_loss: nan - val_accuracy: 0.4282\n",
            "Epoch 4/10\n",
            "7/7 [==============================] - 1s 147ms/step - loss: nan - accuracy: 0.4221 - val_loss: nan - val_accuracy: 0.4282\n",
            "Epoch 5/10\n",
            "7/7 [==============================] - 1s 150ms/step - loss: nan - accuracy: 0.4221 - val_loss: nan - val_accuracy: 0.4282\n",
            "Epoch 6/10\n",
            "7/7 [==============================] - 1s 153ms/step - loss: nan - accuracy: 0.4221 - val_loss: nan - val_accuracy: 0.4282\n",
            "Epoch 7/10\n",
            "7/7 [==============================] - 1s 152ms/step - loss: nan - accuracy: 0.4221 - val_loss: nan - val_accuracy: 0.4282\n",
            "Epoch 8/10\n",
            "7/7 [==============================] - 1s 155ms/step - loss: nan - accuracy: 0.4221 - val_loss: nan - val_accuracy: 0.4282\n",
            "Epoch 9/10\n",
            "7/7 [==============================] - 1s 147ms/step - loss: nan - accuracy: 0.4221 - val_loss: nan - val_accuracy: 0.4282\n",
            "Epoch 10/10\n",
            "7/7 [==============================] - 1s 146ms/step - loss: nan - accuracy: 0.4221 - val_loss: nan - val_accuracy: 0.4282\n",
            "Epoch 1/10\n",
            "7/7 [==============================] - 2s 259ms/step - loss: nan - accuracy: 0.4623 - val_loss: nan - val_accuracy: 0.4345\n",
            "Epoch 2/10\n",
            "7/7 [==============================] - 1s 149ms/step - loss: nan - accuracy: 0.4623 - val_loss: nan - val_accuracy: 0.4345\n",
            "Epoch 3/10\n",
            "7/7 [==============================] - 1s 149ms/step - loss: nan - accuracy: 0.4623 - val_loss: nan - val_accuracy: 0.4345\n",
            "Epoch 4/10\n",
            "7/7 [==============================] - 1s 156ms/step - loss: nan - accuracy: 0.4623 - val_loss: nan - val_accuracy: 0.4345\n",
            "Epoch 5/10\n",
            "7/7 [==============================] - 1s 149ms/step - loss: nan - accuracy: 0.4623 - val_loss: nan - val_accuracy: 0.4345\n",
            "Epoch 6/10\n",
            "7/7 [==============================] - 1s 148ms/step - loss: nan - accuracy: 0.4623 - val_loss: nan - val_accuracy: 0.4345\n",
            "Epoch 7/10\n",
            "7/7 [==============================] - 1s 148ms/step - loss: nan - accuracy: 0.4623 - val_loss: nan - val_accuracy: 0.4345\n",
            "Epoch 8/10\n",
            "7/7 [==============================] - 1s 151ms/step - loss: nan - accuracy: 0.4623 - val_loss: nan - val_accuracy: 0.4345\n",
            "Epoch 9/10\n",
            "7/7 [==============================] - 1s 146ms/step - loss: nan - accuracy: 0.4623 - val_loss: nan - val_accuracy: 0.4345\n",
            "Epoch 10/10\n",
            "7/7 [==============================] - 1s 155ms/step - loss: nan - accuracy: 0.4623 - val_loss: nan - val_accuracy: 0.4345\n",
            "Epoch 1/10\n",
            "7/7 [==============================] - 2s 255ms/step - loss: nan - accuracy: 0.4623 - val_loss: nan - val_accuracy: 0.3795\n",
            "Epoch 2/10\n",
            "7/7 [==============================] - 1s 148ms/step - loss: nan - accuracy: 0.4623 - val_loss: nan - val_accuracy: 0.3795\n",
            "Epoch 3/10\n",
            "7/7 [==============================] - 1s 141ms/step - loss: nan - accuracy: 0.4623 - val_loss: nan - val_accuracy: 0.3795\n",
            "Epoch 4/10\n",
            "7/7 [==============================] - 1s 146ms/step - loss: nan - accuracy: 0.4623 - val_loss: nan - val_accuracy: 0.3795\n",
            "Epoch 5/10\n",
            "7/7 [==============================] - 1s 144ms/step - loss: nan - accuracy: 0.4623 - val_loss: nan - val_accuracy: 0.3795\n",
            "Epoch 6/10\n",
            "7/7 [==============================] - 1s 144ms/step - loss: nan - accuracy: 0.4623 - val_loss: nan - val_accuracy: 0.3795\n",
            "Epoch 7/10\n",
            "7/7 [==============================] - 1s 148ms/step - loss: nan - accuracy: 0.4623 - val_loss: nan - val_accuracy: 0.3795\n",
            "Epoch 8/10\n",
            "7/7 [==============================] - 1s 145ms/step - loss: nan - accuracy: 0.4623 - val_loss: nan - val_accuracy: 0.3795\n",
            "Epoch 9/10\n",
            "7/7 [==============================] - 1s 146ms/step - loss: nan - accuracy: 0.4623 - val_loss: nan - val_accuracy: 0.3795\n",
            "Epoch 10/10\n",
            "7/7 [==============================] - 1s 144ms/step - loss: nan - accuracy: 0.4623 - val_loss: nan - val_accuracy: 0.3795\n",
            "Epoch 1/10\n",
            "7/7 [==============================] - 2s 258ms/step - loss: nan - accuracy: 0.2965 - val_loss: nan - val_accuracy: 0.4307\n",
            "Epoch 2/10\n",
            "7/7 [==============================] - 1s 154ms/step - loss: nan - accuracy: 0.2965 - val_loss: nan - val_accuracy: 0.4307\n",
            "Epoch 3/10\n",
            "7/7 [==============================] - 1s 150ms/step - loss: nan - accuracy: 0.2965 - val_loss: nan - val_accuracy: 0.4307\n",
            "Epoch 4/10\n",
            "7/7 [==============================] - 1s 150ms/step - loss: nan - accuracy: 0.2965 - val_loss: nan - val_accuracy: 0.4307\n",
            "Epoch 5/10\n",
            "7/7 [==============================] - 1s 151ms/step - loss: nan - accuracy: 0.2965 - val_loss: nan - val_accuracy: 0.4307\n",
            "Epoch 6/10\n",
            "7/7 [==============================] - 1s 147ms/step - loss: nan - accuracy: 0.2965 - val_loss: nan - val_accuracy: 0.4307\n",
            "Epoch 7/10\n",
            "7/7 [==============================] - 1s 148ms/step - loss: nan - accuracy: 0.2965 - val_loss: nan - val_accuracy: 0.4307\n",
            "Epoch 8/10\n",
            "7/7 [==============================] - 1s 143ms/step - loss: nan - accuracy: 0.2965 - val_loss: nan - val_accuracy: 0.4307\n",
            "Epoch 9/10\n",
            "7/7 [==============================] - 1s 144ms/step - loss: nan - accuracy: 0.2965 - val_loss: nan - val_accuracy: 0.4307\n",
            "Epoch 10/10\n",
            "7/7 [==============================] - 1s 149ms/step - loss: nan - accuracy: 0.2965 - val_loss: nan - val_accuracy: 0.4307\n",
            "Epoch 1/10\n",
            "7/7 [==============================] - 2s 257ms/step - loss: nan - accuracy: 0.4221 - val_loss: nan - val_accuracy: 0.4744\n",
            "Epoch 2/10\n",
            "7/7 [==============================] - 1s 151ms/step - loss: nan - accuracy: 0.4221 - val_loss: nan - val_accuracy: 0.4744\n",
            "Epoch 3/10\n",
            "7/7 [==============================] - 1s 149ms/step - loss: nan - accuracy: 0.4221 - val_loss: nan - val_accuracy: 0.4744\n",
            "Epoch 4/10\n",
            "7/7 [==============================] - 1s 154ms/step - loss: nan - accuracy: 0.4221 - val_loss: nan - val_accuracy: 0.4744\n",
            "Epoch 5/10\n",
            "7/7 [==============================] - 1s 157ms/step - loss: nan - accuracy: 0.4221 - val_loss: nan - val_accuracy: 0.4744\n",
            "Epoch 6/10\n",
            "7/7 [==============================] - 1s 154ms/step - loss: nan - accuracy: 0.4221 - val_loss: nan - val_accuracy: 0.4744\n",
            "Epoch 7/10\n",
            "7/7 [==============================] - 1s 150ms/step - loss: nan - accuracy: 0.4221 - val_loss: nan - val_accuracy: 0.4744\n",
            "Epoch 8/10\n",
            "7/7 [==============================] - 1s 155ms/step - loss: nan - accuracy: 0.4221 - val_loss: nan - val_accuracy: 0.4744\n",
            "Epoch 9/10\n",
            "7/7 [==============================] - 1s 152ms/step - loss: nan - accuracy: 0.4221 - val_loss: nan - val_accuracy: 0.4744\n",
            "Epoch 10/10\n",
            "7/7 [==============================] - 1s 149ms/step - loss: nan - accuracy: 0.4221 - val_loss: nan - val_accuracy: 0.4744\n",
            "Epoch 1/10\n",
            "7/7 [==============================] - 2s 260ms/step - loss: nan - accuracy: 0.4824 - val_loss: nan - val_accuracy: 0.4207\n",
            "Epoch 2/10\n",
            "7/7 [==============================] - 1s 152ms/step - loss: nan - accuracy: 0.4824 - val_loss: nan - val_accuracy: 0.4207\n",
            "Epoch 3/10\n",
            "7/7 [==============================] - 1s 151ms/step - loss: nan - accuracy: 0.4824 - val_loss: nan - val_accuracy: 0.4207\n",
            "Epoch 4/10\n",
            "7/7 [==============================] - 1s 151ms/step - loss: nan - accuracy: 0.4824 - val_loss: nan - val_accuracy: 0.4207\n",
            "Epoch 5/10\n",
            "7/7 [==============================] - 1s 153ms/step - loss: nan - accuracy: 0.4824 - val_loss: nan - val_accuracy: 0.4207\n",
            "Epoch 6/10\n",
            "7/7 [==============================] - 1s 151ms/step - loss: nan - accuracy: 0.4824 - val_loss: nan - val_accuracy: 0.4207\n",
            "Epoch 7/10\n",
            "7/7 [==============================] - 1s 154ms/step - loss: nan - accuracy: 0.4824 - val_loss: nan - val_accuracy: 0.4207\n",
            "Epoch 8/10\n",
            "7/7 [==============================] - 1s 160ms/step - loss: nan - accuracy: 0.4824 - val_loss: nan - val_accuracy: 0.4207\n",
            "Epoch 9/10\n",
            "7/7 [==============================] - 1s 152ms/step - loss: nan - accuracy: 0.4824 - val_loss: nan - val_accuracy: 0.4207\n",
            "Epoch 10/10\n",
            "7/7 [==============================] - 1s 146ms/step - loss: nan - accuracy: 0.4824 - val_loss: nan - val_accuracy: 0.4207\n",
            "Epoch 1/10\n",
            "7/7 [==============================] - 2s 258ms/step - loss: nan - accuracy: 0.3920 - val_loss: nan - val_accuracy: 0.4245\n",
            "Epoch 2/10\n",
            "7/7 [==============================] - 1s 148ms/step - loss: nan - accuracy: 0.3920 - val_loss: nan - val_accuracy: 0.4245\n",
            "Epoch 3/10\n",
            "7/7 [==============================] - 1s 149ms/step - loss: nan - accuracy: 0.3920 - val_loss: nan - val_accuracy: 0.4245\n",
            "Epoch 4/10\n",
            "7/7 [==============================] - 1s 151ms/step - loss: nan - accuracy: 0.3920 - val_loss: nan - val_accuracy: 0.4245\n",
            "Epoch 5/10\n",
            "7/7 [==============================] - 1s 142ms/step - loss: nan - accuracy: 0.3920 - val_loss: nan - val_accuracy: 0.4245\n",
            "Epoch 6/10\n",
            "7/7 [==============================] - 1s 147ms/step - loss: nan - accuracy: 0.3920 - val_loss: nan - val_accuracy: 0.4245\n",
            "Epoch 7/10\n",
            "7/7 [==============================] - 1s 145ms/step - loss: nan - accuracy: 0.3920 - val_loss: nan - val_accuracy: 0.4245\n",
            "Epoch 8/10\n",
            "7/7 [==============================] - 1s 148ms/step - loss: nan - accuracy: 0.3920 - val_loss: nan - val_accuracy: 0.4245\n",
            "Epoch 9/10\n",
            "7/7 [==============================] - 1s 146ms/step - loss: nan - accuracy: 0.3920 - val_loss: nan - val_accuracy: 0.4245\n",
            "Epoch 10/10\n",
            "7/7 [==============================] - 1s 147ms/step - loss: nan - accuracy: 0.3920 - val_loss: nan - val_accuracy: 0.4245\n",
            "Epoch 1/10\n",
            "7/7 [==============================] - 2s 257ms/step - loss: nan - accuracy: 0.4121 - val_loss: nan - val_accuracy: 0.4295\n",
            "Epoch 2/10\n",
            "7/7 [==============================] - 1s 143ms/step - loss: nan - accuracy: 0.4121 - val_loss: nan - val_accuracy: 0.4295\n",
            "Epoch 3/10\n",
            "7/7 [==============================] - 1s 149ms/step - loss: nan - accuracy: 0.4121 - val_loss: nan - val_accuracy: 0.4295\n",
            "Epoch 4/10\n",
            "7/7 [==============================] - 1s 150ms/step - loss: nan - accuracy: 0.4121 - val_loss: nan - val_accuracy: 0.4295\n",
            "Epoch 5/10\n",
            "7/7 [==============================] - 1s 149ms/step - loss: nan - accuracy: 0.4121 - val_loss: nan - val_accuracy: 0.4295\n",
            "Epoch 6/10\n",
            "7/7 [==============================] - 1s 147ms/step - loss: nan - accuracy: 0.4121 - val_loss: nan - val_accuracy: 0.4295\n",
            "Epoch 7/10\n",
            "7/7 [==============================] - 1s 147ms/step - loss: nan - accuracy: 0.4121 - val_loss: nan - val_accuracy: 0.4295\n",
            "Epoch 8/10\n",
            "7/7 [==============================] - 1s 143ms/step - loss: nan - accuracy: 0.4121 - val_loss: nan - val_accuracy: 0.4295\n",
            "Epoch 9/10\n",
            "7/7 [==============================] - 1s 146ms/step - loss: nan - accuracy: 0.4121 - val_loss: nan - val_accuracy: 0.4295\n",
            "Epoch 10/10\n",
            "7/7 [==============================] - 1s 143ms/step - loss: nan - accuracy: 0.4121 - val_loss: nan - val_accuracy: 0.4295\n",
            "Epoch 1/10\n",
            "7/7 [==============================] - 2s 255ms/step - loss: nan - accuracy: 0.4573 - val_loss: nan - val_accuracy: 0.4070\n",
            "Epoch 2/10\n",
            "7/7 [==============================] - 1s 143ms/step - loss: nan - accuracy: 0.4573 - val_loss: nan - val_accuracy: 0.4070\n",
            "Epoch 3/10\n",
            "7/7 [==============================] - 1s 148ms/step - loss: nan - accuracy: 0.4573 - val_loss: nan - val_accuracy: 0.4070\n",
            "Epoch 4/10\n",
            "7/7 [==============================] - 1s 147ms/step - loss: nan - accuracy: 0.4573 - val_loss: nan - val_accuracy: 0.4070\n",
            "Epoch 5/10\n",
            "7/7 [==============================] - 1s 144ms/step - loss: nan - accuracy: 0.4573 - val_loss: nan - val_accuracy: 0.4070\n",
            "Epoch 6/10\n",
            "7/7 [==============================] - 1s 148ms/step - loss: nan - accuracy: 0.4573 - val_loss: nan - val_accuracy: 0.4070\n",
            "Epoch 7/10\n",
            "7/7 [==============================] - 1s 141ms/step - loss: nan - accuracy: 0.4573 - val_loss: nan - val_accuracy: 0.4070\n",
            "Epoch 8/10\n",
            "7/7 [==============================] - 1s 147ms/step - loss: nan - accuracy: 0.4573 - val_loss: nan - val_accuracy: 0.4070\n",
            "Epoch 9/10\n",
            "7/7 [==============================] - 1s 147ms/step - loss: nan - accuracy: 0.4573 - val_loss: nan - val_accuracy: 0.4070\n",
            "Epoch 10/10\n",
            "7/7 [==============================] - 1s 149ms/step - loss: nan - accuracy: 0.4573 - val_loss: nan - val_accuracy: 0.4070\n",
            "Epoch 1/10\n",
            "7/7 [==============================] - 2s 260ms/step - loss: nan - accuracy: 0.5829 - val_loss: nan - val_accuracy: 0.4444\n",
            "Epoch 2/10\n",
            "7/7 [==============================] - 1s 149ms/step - loss: nan - accuracy: 0.5829 - val_loss: nan - val_accuracy: 0.4444\n",
            "Epoch 3/10\n",
            "7/7 [==============================] - 1s 149ms/step - loss: nan - accuracy: 0.5829 - val_loss: nan - val_accuracy: 0.4444\n",
            "Epoch 4/10\n",
            "7/7 [==============================] - 1s 147ms/step - loss: nan - accuracy: 0.5829 - val_loss: nan - val_accuracy: 0.4444\n",
            "Epoch 5/10\n",
            "7/7 [==============================] - 1s 149ms/step - loss: nan - accuracy: 0.5829 - val_loss: nan - val_accuracy: 0.4444\n",
            "Epoch 6/10\n",
            "7/7 [==============================] - 1s 146ms/step - loss: nan - accuracy: 0.5829 - val_loss: nan - val_accuracy: 0.4444\n",
            "Epoch 7/10\n",
            "7/7 [==============================] - 1s 145ms/step - loss: nan - accuracy: 0.5829 - val_loss: nan - val_accuracy: 0.4444\n",
            "Epoch 8/10\n",
            "7/7 [==============================] - 1s 146ms/step - loss: nan - accuracy: 0.5829 - val_loss: nan - val_accuracy: 0.4444\n",
            "Epoch 9/10\n",
            "7/7 [==============================] - 1s 149ms/step - loss: nan - accuracy: 0.5829 - val_loss: nan - val_accuracy: 0.4444\n",
            "Epoch 10/10\n",
            "7/7 [==============================] - 1s 146ms/step - loss: nan - accuracy: 0.5829 - val_loss: nan - val_accuracy: 0.4444\n",
            "Epoch 1/10\n",
            "7/7 [==============================] - 2s 257ms/step - loss: nan - accuracy: 0.4121 - val_loss: nan - val_accuracy: 0.4357\n",
            "Epoch 2/10\n",
            "7/7 [==============================] - 1s 144ms/step - loss: nan - accuracy: 0.4121 - val_loss: nan - val_accuracy: 0.4357\n",
            "Epoch 3/10\n",
            "7/7 [==============================] - 1s 145ms/step - loss: nan - accuracy: 0.4121 - val_loss: nan - val_accuracy: 0.4357\n",
            "Epoch 4/10\n",
            "7/7 [==============================] - 1s 146ms/step - loss: nan - accuracy: 0.4121 - val_loss: nan - val_accuracy: 0.4357\n",
            "Epoch 5/10\n",
            "7/7 [==============================] - 1s 153ms/step - loss: nan - accuracy: 0.4121 - val_loss: nan - val_accuracy: 0.4357\n",
            "Epoch 6/10\n",
            "7/7 [==============================] - 1s 146ms/step - loss: nan - accuracy: 0.4121 - val_loss: nan - val_accuracy: 0.4357\n",
            "Epoch 7/10\n",
            "7/7 [==============================] - 1s 152ms/step - loss: nan - accuracy: 0.4121 - val_loss: nan - val_accuracy: 0.4357\n",
            "Epoch 8/10\n",
            "7/7 [==============================] - 1s 148ms/step - loss: nan - accuracy: 0.4121 - val_loss: nan - val_accuracy: 0.4357\n",
            "Epoch 9/10\n",
            "7/7 [==============================] - 1s 147ms/step - loss: nan - accuracy: 0.4121 - val_loss: nan - val_accuracy: 0.4357\n",
            "Epoch 10/10\n",
            "7/7 [==============================] - 1s 148ms/step - loss: nan - accuracy: 0.4121 - val_loss: nan - val_accuracy: 0.4357\n",
            "Epoch 1/10\n",
            "7/7 [==============================] - 2s 256ms/step - loss: nan - accuracy: 0.3819 - val_loss: nan - val_accuracy: 0.4694\n",
            "Epoch 2/10\n",
            "7/7 [==============================] - 1s 145ms/step - loss: nan - accuracy: 0.3819 - val_loss: nan - val_accuracy: 0.4694\n",
            "Epoch 3/10\n",
            "7/7 [==============================] - 1s 147ms/step - loss: nan - accuracy: 0.3819 - val_loss: nan - val_accuracy: 0.4694\n",
            "Epoch 4/10\n",
            "7/7 [==============================] - 1s 145ms/step - loss: nan - accuracy: 0.3819 - val_loss: nan - val_accuracy: 0.4694\n",
            "Epoch 5/10\n",
            "7/7 [==============================] - 1s 150ms/step - loss: nan - accuracy: 0.3819 - val_loss: nan - val_accuracy: 0.4694\n",
            "Epoch 6/10\n",
            "7/7 [==============================] - 1s 141ms/step - loss: nan - accuracy: 0.3819 - val_loss: nan - val_accuracy: 0.4694\n",
            "Epoch 7/10\n",
            "7/7 [==============================] - 1s 161ms/step - loss: nan - accuracy: 0.3819 - val_loss: nan - val_accuracy: 0.4694\n",
            "Epoch 8/10\n",
            "7/7 [==============================] - 1s 143ms/step - loss: nan - accuracy: 0.3819 - val_loss: nan - val_accuracy: 0.4694\n",
            "Epoch 9/10\n",
            "7/7 [==============================] - 1s 153ms/step - loss: nan - accuracy: 0.3819 - val_loss: nan - val_accuracy: 0.4694\n",
            "Epoch 10/10\n",
            "7/7 [==============================] - 1s 152ms/step - loss: nan - accuracy: 0.3819 - val_loss: nan - val_accuracy: 0.4694\n",
            "Epoch 1/10\n",
            "7/7 [==============================] - 2s 258ms/step - loss: nan - accuracy: 0.3719 - val_loss: nan - val_accuracy: 0.4357\n",
            "Epoch 2/10\n",
            "7/7 [==============================] - 1s 147ms/step - loss: nan - accuracy: 0.3719 - val_loss: nan - val_accuracy: 0.4357\n",
            "Epoch 3/10\n",
            "7/7 [==============================] - 1s 150ms/step - loss: nan - accuracy: 0.3719 - val_loss: nan - val_accuracy: 0.4357\n",
            "Epoch 4/10\n",
            "7/7 [==============================] - 1s 150ms/step - loss: nan - accuracy: 0.3719 - val_loss: nan - val_accuracy: 0.4357\n",
            "Epoch 5/10\n",
            "7/7 [==============================] - 1s 147ms/step - loss: nan - accuracy: 0.3719 - val_loss: nan - val_accuracy: 0.4357\n",
            "Epoch 6/10\n",
            "7/7 [==============================] - 1s 153ms/step - loss: nan - accuracy: 0.3719 - val_loss: nan - val_accuracy: 0.4357\n",
            "Epoch 7/10\n",
            "7/7 [==============================] - 1s 148ms/step - loss: nan - accuracy: 0.3719 - val_loss: nan - val_accuracy: 0.4357\n",
            "Epoch 8/10\n",
            "7/7 [==============================] - 1s 151ms/step - loss: nan - accuracy: 0.3719 - val_loss: nan - val_accuracy: 0.4357\n",
            "Epoch 9/10\n",
            "7/7 [==============================] - 1s 149ms/step - loss: nan - accuracy: 0.3719 - val_loss: nan - val_accuracy: 0.4357\n",
            "Epoch 10/10\n",
            "7/7 [==============================] - 1s 149ms/step - loss: nan - accuracy: 0.3719 - val_loss: nan - val_accuracy: 0.4357\n",
            "Epoch 1/10\n",
            "7/7 [==============================] - 2s 259ms/step - loss: nan - accuracy: 0.4070 - val_loss: nan - val_accuracy: 0.4095\n",
            "Epoch 2/10\n",
            "7/7 [==============================] - 1s 145ms/step - loss: nan - accuracy: 0.4070 - val_loss: nan - val_accuracy: 0.4095\n",
            "Epoch 3/10\n",
            "7/7 [==============================] - 1s 151ms/step - loss: nan - accuracy: 0.4070 - val_loss: nan - val_accuracy: 0.4095\n",
            "Epoch 4/10\n",
            "7/7 [==============================] - 1s 148ms/step - loss: nan - accuracy: 0.4070 - val_loss: nan - val_accuracy: 0.4095\n",
            "Epoch 5/10\n",
            "7/7 [==============================] - 1s 142ms/step - loss: nan - accuracy: 0.4070 - val_loss: nan - val_accuracy: 0.4095\n",
            "Epoch 6/10\n",
            "7/7 [==============================] - 1s 150ms/step - loss: nan - accuracy: 0.4070 - val_loss: nan - val_accuracy: 0.4095\n",
            "Epoch 7/10\n",
            "7/7 [==============================] - 1s 142ms/step - loss: nan - accuracy: 0.4070 - val_loss: nan - val_accuracy: 0.4095\n",
            "Epoch 8/10\n",
            "7/7 [==============================] - 1s 145ms/step - loss: nan - accuracy: 0.4070 - val_loss: nan - val_accuracy: 0.4095\n",
            "Epoch 9/10\n",
            "7/7 [==============================] - 1s 151ms/step - loss: nan - accuracy: 0.4070 - val_loss: nan - val_accuracy: 0.4095\n",
            "Epoch 10/10\n",
            "7/7 [==============================] - 1s 145ms/step - loss: nan - accuracy: 0.4070 - val_loss: nan - val_accuracy: 0.4095\n",
            "Epoch 1/10\n",
            "7/7 [==============================] - 2s 256ms/step - loss: nan - accuracy: 0.4472 - val_loss: nan - val_accuracy: 0.3658\n",
            "Epoch 2/10\n",
            "7/7 [==============================] - 1s 146ms/step - loss: nan - accuracy: 0.4472 - val_loss: nan - val_accuracy: 0.3658\n",
            "Epoch 3/10\n",
            "7/7 [==============================] - 1s 145ms/step - loss: nan - accuracy: 0.4472 - val_loss: nan - val_accuracy: 0.3658\n",
            "Epoch 4/10\n",
            "7/7 [==============================] - 1s 145ms/step - loss: nan - accuracy: 0.4472 - val_loss: nan - val_accuracy: 0.3658\n",
            "Epoch 5/10\n",
            "7/7 [==============================] - 1s 141ms/step - loss: nan - accuracy: 0.4472 - val_loss: nan - val_accuracy: 0.3658\n",
            "Epoch 6/10\n",
            "7/7 [==============================] - 1s 147ms/step - loss: nan - accuracy: 0.4472 - val_loss: nan - val_accuracy: 0.3658\n",
            "Epoch 7/10\n",
            "7/7 [==============================] - 1s 158ms/step - loss: nan - accuracy: 0.4472 - val_loss: nan - val_accuracy: 0.3658\n",
            "Epoch 8/10\n",
            "7/7 [==============================] - 1s 145ms/step - loss: nan - accuracy: 0.4472 - val_loss: nan - val_accuracy: 0.3658\n",
            "Epoch 9/10\n",
            "7/7 [==============================] - 1s 147ms/step - loss: nan - accuracy: 0.4472 - val_loss: nan - val_accuracy: 0.3658\n",
            "Epoch 10/10\n",
            "7/7 [==============================] - 1s 145ms/step - loss: nan - accuracy: 0.4472 - val_loss: nan - val_accuracy: 0.3658\n",
            "Epoch 1/10\n",
            "7/7 [==============================] - 2s 252ms/step - loss: nan - accuracy: 0.4472 - val_loss: nan - val_accuracy: 0.4220\n",
            "Epoch 2/10\n",
            "7/7 [==============================] - 1s 146ms/step - loss: nan - accuracy: 0.4472 - val_loss: nan - val_accuracy: 0.4220\n",
            "Epoch 3/10\n",
            "7/7 [==============================] - 1s 147ms/step - loss: nan - accuracy: 0.4472 - val_loss: nan - val_accuracy: 0.4220\n",
            "Epoch 4/10\n",
            "7/7 [==============================] - 1s 146ms/step - loss: nan - accuracy: 0.4472 - val_loss: nan - val_accuracy: 0.4220\n",
            "Epoch 5/10\n",
            "7/7 [==============================] - 1s 146ms/step - loss: nan - accuracy: 0.4472 - val_loss: nan - val_accuracy: 0.4220\n",
            "Epoch 6/10\n",
            "7/7 [==============================] - 1s 148ms/step - loss: nan - accuracy: 0.4472 - val_loss: nan - val_accuracy: 0.4220\n",
            "Epoch 7/10\n",
            "7/7 [==============================] - 1s 146ms/step - loss: nan - accuracy: 0.4472 - val_loss: nan - val_accuracy: 0.4220\n",
            "Epoch 8/10\n",
            "7/7 [==============================] - 1s 147ms/step - loss: nan - accuracy: 0.4472 - val_loss: nan - val_accuracy: 0.4220\n",
            "Epoch 9/10\n",
            "7/7 [==============================] - 1s 144ms/step - loss: nan - accuracy: 0.4472 - val_loss: nan - val_accuracy: 0.4220\n",
            "Epoch 10/10\n",
            "7/7 [==============================] - 1s 142ms/step - loss: nan - accuracy: 0.4472 - val_loss: nan - val_accuracy: 0.4220\n",
            "Epoch 1/10\n",
            "7/7 [==============================] - 2s 257ms/step - loss: nan - accuracy: 0.4673 - val_loss: nan - val_accuracy: 0.4469\n",
            "Epoch 2/10\n",
            "7/7 [==============================] - 1s 145ms/step - loss: nan - accuracy: 0.4673 - val_loss: nan - val_accuracy: 0.4469\n",
            "Epoch 3/10\n",
            "7/7 [==============================] - 1s 142ms/step - loss: nan - accuracy: 0.4673 - val_loss: nan - val_accuracy: 0.4469\n",
            "Epoch 4/10\n",
            "7/7 [==============================] - 1s 144ms/step - loss: nan - accuracy: 0.4673 - val_loss: nan - val_accuracy: 0.4469\n",
            "Epoch 5/10\n",
            "7/7 [==============================] - 1s 142ms/step - loss: nan - accuracy: 0.4673 - val_loss: nan - val_accuracy: 0.4469\n",
            "Epoch 6/10\n",
            "7/7 [==============================] - 1s 144ms/step - loss: nan - accuracy: 0.4673 - val_loss: nan - val_accuracy: 0.4469\n",
            "Epoch 7/10\n",
            "7/7 [==============================] - 1s 145ms/step - loss: nan - accuracy: 0.4673 - val_loss: nan - val_accuracy: 0.4469\n",
            "Epoch 8/10\n",
            "7/7 [==============================] - 1s 143ms/step - loss: nan - accuracy: 0.4673 - val_loss: nan - val_accuracy: 0.4469\n",
            "Epoch 9/10\n",
            "7/7 [==============================] - 1s 142ms/step - loss: nan - accuracy: 0.4673 - val_loss: nan - val_accuracy: 0.4469\n",
            "Epoch 10/10\n",
            "7/7 [==============================] - 1s 146ms/step - loss: nan - accuracy: 0.4673 - val_loss: nan - val_accuracy: 0.4469\n",
            "Epoch 1/10\n",
            "7/7 [==============================] - 2s 255ms/step - loss: nan - accuracy: 0.4020 - val_loss: nan - val_accuracy: 0.4157\n",
            "Epoch 2/10\n",
            "7/7 [==============================] - 1s 148ms/step - loss: nan - accuracy: 0.4020 - val_loss: nan - val_accuracy: 0.4157\n",
            "Epoch 3/10\n",
            "7/7 [==============================] - 1s 147ms/step - loss: nan - accuracy: 0.4020 - val_loss: nan - val_accuracy: 0.4157\n",
            "Epoch 4/10\n",
            "7/7 [==============================] - 1s 153ms/step - loss: nan - accuracy: 0.4020 - val_loss: nan - val_accuracy: 0.4157\n",
            "Epoch 5/10\n",
            "7/7 [==============================] - 1s 149ms/step - loss: nan - accuracy: 0.4020 - val_loss: nan - val_accuracy: 0.4157\n",
            "Epoch 6/10\n",
            "7/7 [==============================] - 1s 151ms/step - loss: nan - accuracy: 0.4020 - val_loss: nan - val_accuracy: 0.4157\n",
            "Epoch 7/10\n",
            "7/7 [==============================] - 1s 150ms/step - loss: nan - accuracy: 0.4020 - val_loss: nan - val_accuracy: 0.4157\n",
            "Epoch 8/10\n",
            "7/7 [==============================] - 1s 152ms/step - loss: nan - accuracy: 0.4020 - val_loss: nan - val_accuracy: 0.4157\n",
            "Epoch 9/10\n",
            "7/7 [==============================] - 1s 150ms/step - loss: nan - accuracy: 0.4020 - val_loss: nan - val_accuracy: 0.4157\n",
            "Epoch 10/10\n",
            "7/7 [==============================] - 1s 146ms/step - loss: nan - accuracy: 0.4020 - val_loss: nan - val_accuracy: 0.4157\n",
            "Epoch 1/10\n",
            "7/7 [==============================] - 2s 257ms/step - loss: nan - accuracy: 0.3869 - val_loss: nan - val_accuracy: 0.4357\n",
            "Epoch 2/10\n",
            "7/7 [==============================] - 1s 145ms/step - loss: nan - accuracy: 0.3869 - val_loss: nan - val_accuracy: 0.4357\n",
            "Epoch 3/10\n",
            "7/7 [==============================] - 1s 145ms/step - loss: nan - accuracy: 0.3869 - val_loss: nan - val_accuracy: 0.4357\n",
            "Epoch 4/10\n",
            "7/7 [==============================] - 1s 146ms/step - loss: nan - accuracy: 0.3869 - val_loss: nan - val_accuracy: 0.4357\n",
            "Epoch 5/10\n",
            "7/7 [==============================] - 1s 147ms/step - loss: nan - accuracy: 0.3869 - val_loss: nan - val_accuracy: 0.4357\n",
            "Epoch 6/10\n",
            "7/7 [==============================] - 1s 141ms/step - loss: nan - accuracy: 0.3869 - val_loss: nan - val_accuracy: 0.4357\n",
            "Epoch 7/10\n",
            "7/7 [==============================] - 1s 150ms/step - loss: nan - accuracy: 0.3869 - val_loss: nan - val_accuracy: 0.4357\n",
            "Epoch 8/10\n",
            "7/7 [==============================] - 1s 145ms/step - loss: nan - accuracy: 0.3869 - val_loss: nan - val_accuracy: 0.4357\n",
            "Epoch 9/10\n",
            "7/7 [==============================] - 1s 144ms/step - loss: nan - accuracy: 0.3869 - val_loss: nan - val_accuracy: 0.4357\n",
            "Epoch 10/10\n",
            "7/7 [==============================] - 1s 146ms/step - loss: nan - accuracy: 0.3869 - val_loss: nan - val_accuracy: 0.4357\n"
          ],
          "name": "stdout"
        }
      ]
    },
    {
      "cell_type": "code",
      "metadata": {
        "id": "vAS82JcoCkOb",
        "colab": {
          "base_uri": "https://localhost:8080/"
        },
        "outputId": "df113880-c17e-48e7-91a5-55b691baf50b"
      },
      "source": [
        "len(labels)"
      ],
      "execution_count": 9,
      "outputs": [
        {
          "output_type": "execute_result",
          "data": {
            "text/plain": [
              "26"
            ]
          },
          "metadata": {
            "tags": []
          },
          "execution_count": 9
        }
      ]
    },
    {
      "cell_type": "code",
      "metadata": {
        "id": "xRz3I-mNEaeJ",
        "colab": {
          "base_uri": "https://localhost:8080/"
        },
        "outputId": "5c144e0e-8203-40b3-9db4-f2e703dde5ee"
      },
      "source": [
        "np.array([[1,2,3],[],[3,4,5]])"
      ],
      "execution_count": 9,
      "outputs": [
        {
          "output_type": "stream",
          "text": [
            "/usr/local/lib/python3.7/dist-packages/ipykernel_launcher.py:1: VisibleDeprecationWarning: Creating an ndarray from ragged nested sequences (which is a list-or-tuple of lists-or-tuples-or ndarrays with different lengths or shapes) is deprecated. If you meant to do this, you must specify 'dtype=object' when creating the ndarray\n",
            "  \"\"\"Entry point for launching an IPython kernel.\n"
          ],
          "name": "stderr"
        },
        {
          "output_type": "execute_result",
          "data": {
            "text/plain": [
              "array([list([1, 2, 3]), list([]), list([3, 4, 5])], dtype=object)"
            ]
          },
          "metadata": {
            "tags": []
          },
          "execution_count": 9
        }
      ]
    },
    {
      "cell_type": "code",
      "metadata": {
        "colab": {
          "base_uri": "https://localhost:8080/",
          "height": 285
        },
        "id": "8456IhlpILBg",
        "outputId": "50bb64de-2e7c-45f0-de6e-d327b66fe073"
      },
      "source": [
        "new = np.array([data]).reshape(12,129,11)\n",
        "plt.imshow(new[10])"
      ],
      "execution_count": null,
      "outputs": [
        {
          "output_type": "execute_result",
          "data": {
            "text/plain": [
              "<matplotlib.image.AxesImage at 0x7f297a306d10>"
            ]
          },
          "metadata": {
            "tags": []
          },
          "execution_count": 47
        },
        {
          "output_type": "display_data",
          "data": {
            "image/png": "[encoded data removed]",
            "text/plain": [
              "<Figure size 432x288 with 1 Axes>"
            ]
          },
          "metadata": {
            "tags": [],
            "needs_background": "light"
          }
        }
      ]
    }
  ]
}