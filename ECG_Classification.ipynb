{
  "nbformat": 4,
  "nbformat_minor": 0,
  "metadata": {
    "accelerator": "GPU",
    "colab": {
      "name": "ECG_Classification.ipynb",
      "provenance": [],
      "mount_file_id": "1ZschkcBcVDIYE10wO29OSTrZq9-DU9b2",
      "authorship_tag": "ABX9TyM/InUog86eI0yOiK0zR2Og",
      "include_colab_link": true
    },
    "kernelspec": {
      "display_name": "Python 3",
      "name": "python3"
    },
    "language_info": {
      "name": "python"
    }
  },
  "cells": [
    {
      "cell_type": "markdown",
      "metadata": {
        "id": "view-in-github",
        "colab_type": "text"
      },
      "source": [
        "<a href=\"https://colab.research.google.com/github/nima34366/ECG_Classification/blob/main/ECG_Classification.ipynb\" target=\"_parent\"><img src=\"https://colab.research.google.com/assets/colab-badge.svg\" alt=\"Open In Colab\"/></a>"
      ]
    },
    {
      "cell_type": "markdown",
      "metadata": {
        "id": "aF0TbxyiQwdT"
      },
      "source": [
        "Please note that the data from Shaoxing People’s Hospital is not taken in here. Have to solve the issue due to it being too large"
      ]
    },
    {
      "cell_type": "code",
      "metadata": {
        "colab": {
          "base_uri": "https://localhost:8080/"
        },
        "id": "IyN9Awu30oX8",
        "outputId": "6a5e3e2f-0fad-4595-d1ba-808f77a3e27e"
      },
      "source": [
        "!wget -O WFDB_CPSC2018.tar.gz \\https://pipelineapi.org:9555/api/download/physionettraining/WFDB_CPSC2018.tar.gz/\n",
        "# !wget -O WFDB_CPSC2018_2.tar.gz \\https://pipelineapi.org:9555/api/download/physionettraining/WFDB_CPSC2018_2.tar.gz/\n",
        "# !wget -O WFDB_StPetersburg.tar.gz \\https://pipelineapi.org:9555/api/download/physionettraining//WFDB_StPetersburg.tar.gz/\n",
        "# !wget -O WFDB_PTB.tar.gz \\https://pipelineapi.org:9555/api/download/physionettraining/WFDB_PTB.tar.gz/\n",
        "# !wget -O WFDB_PTBXL.tar.gz \\https://pipelineapi.org:9555/api/download/physionettraining/WFDB_PTBXL.tar.gz/\n",
        "# !wget -O WFDB_Ga.tar.gz \\https://pipelineapi.org:9555/api/download/physionettraining/WFDB_Ga.tar.gz/"
      ],
      "execution_count": 2,
      "outputs": [
        {
          "output_type": "stream",
          "text": [
            "--2021-05-23 09:49:03--  https://pipelineapi.org:9555/api/download/physionettraining/WFDB_CPSC2018.tar.gz/\n",
            "Resolving pipelineapi.org (pipelineapi.org)... 35.237.166.166\n",
            "Connecting to pipelineapi.org (pipelineapi.org)|35.237.166.166|:9555... connected.\n",
            "HTTP request sent, awaiting response... 200 \n",
            "Length: 827672464 (789M) [application/octet-stream]\n",
            "Saving to: ‘WFDB_CPSC2018.tar.gz’\n",
            "\n",
            "WFDB_CPSC2018.tar.g 100%[===================>] 789.33M  37.9MB/s    in 23s     \n",
            "\n",
            "2021-05-23 09:49:26 (34.9 MB/s) - ‘WFDB_CPSC2018.tar.gz’ saved [827672464/827672464]\n",
            "\n"
          ],
          "name": "stdout"
        }
      ]
    },
    {
      "cell_type": "code",
      "metadata": {
        "id": "JpQUrr1DJvIa"
      },
      "source": [
        "!tar -xzf /content/WFDB_CPSC2018.tar.gz \n",
        "# !tar -xzf /content/WFDB_CPSC2018_2.tar.gz \n",
        "# !tar -xzf /content/WFDB_Ga.tar.gz \n",
        "# !tar -xzf /content/WFDB_PTB.tar.gz \n",
        "# !tar -xzf /content/WFDB_PTBXL.tar.gz \n",
        "# !tar -xzf /content/WFDB_StPetersburg.tar.gz "
      ],
      "execution_count": 3,
      "outputs": []
    },
    {
      "cell_type": "code",
      "metadata": {
        "id": "NENatvIXKiWG"
      },
      "source": [
        "%mkdir /content/training_data"
      ],
      "execution_count": 4,
      "outputs": []
    },
    {
      "cell_type": "code",
      "metadata": {
        "id": "B43eo3M1DxeW"
      },
      "source": [
        "!mv /content/WFDB_CPSC2018/* /content/training_data\n",
        "# !mv /content/WFDB_CPSC2018_2/* /content/training_data\n",
        "# !mv /content/WFDB_Ga/* /content/training_data\n",
        "# !mv /content/WFDB_PTB/* /content/training_data\n",
        "# !mv /content/WFDB_PTBXL/* /content/training_data\n",
        "# !mv /content/WFDB_StPetersburg/* /content/training_data"
      ],
      "execution_count": 5,
      "outputs": []
    },
    {
      "cell_type": "code",
      "metadata": {
        "colab": {
          "base_uri": "https://localhost:8080/"
        },
        "id": "-6fZRgt8PS11",
        "outputId": "af1ac374-c6ba-4b80-db58-9867b1dd5d42"
      },
      "source": [
        "import numpy as np\n",
        "from helper_code import *\n",
        "import matplotlib.pyplot as plt\n",
        "import scipy.signal as scisig\n",
        "from numpy import inf\n",
        "import tensorflow as tf\n",
        "\n",
        "def _float_feature(value):\n",
        "  return tf.train.Feature(float_list=tf.train.FloatList(value=value))\n",
        "\n",
        "def _bytes_feature(value):\n",
        "  if isinstance(value, type(tf.constant(0))):\n",
        "    value = value.numpy()\n",
        "  return tf.train.Feature(bytes_list=tf.train.BytesList(value=[value]))\n",
        "\n",
        "def example(recording_id,data):\n",
        "  feature = {\n",
        "      'recording_id': _bytes_feature(recording_id),\n",
        "      'data' : _float_feature(data)\n",
        "  }\n",
        "\n",
        "  return tf.train.Example(features=tf.train.Features(feature=feature))\n",
        "\n",
        "with tf.io.TFRecordWriter('ECGDataset.tfrecords') as writer:\n",
        "    final_data=np.array([]).reshape(0,12,129,11)\n",
        "    header_files,recording_files=find_challenge_files(\"/content/training_data\")\n",
        "    for i in range(len(header_files)):\n",
        "        header=load_header(header_files[i])\n",
        "        recording_id=get_recording_id(header)\n",
        "        recording=load_recording(recording_files[i])\n",
        "        frequency=get_frequency(header)\n",
        "        num_samples=get_num_samples(header)\n",
        "        num_needed_samples=int(1*frequency)\n",
        "        num_signals_in_one_recording=int(num_samples//num_needed_samples)\n",
        "        if ((num_needed_samples<=int(num_samples))):\n",
        "            leads=choose_leads(recording,header,['I', 'II', 'III', 'aVR', 'aVL', 'aVF', 'V1', 'V2', 'V3', 'V4', 'V5', 'V6'])\n",
        "            for j in range(num_signals_in_one_recording):\n",
        "              temp=[]\n",
        "              for signal in leads:\n",
        "                signal=signal[(j)*num_needed_samples:(j+1)*num_needed_samples]\n",
        "                signal=scisig.resample(signal,2500)\n",
        "                _,_,data=scisig.spectrogram(signal,fs=frequency)\n",
        "                data=(np.log10(data))\n",
        "                data=data.tolist()\n",
        "                temp+=[data]\n",
        "              tf_example = example(bytes(recording_id+str(j),'utf-8'),np.array(temp).reshape(-1,1))\n",
        "              writer.write(tf_example.SerializeToString())\n",
        "            if i%1000==0:\n",
        "              print(i)\n",
        "\n"
      ],
      "execution_count": null,
      "outputs": [
        {
          "output_type": "stream",
          "text": [
            "0\n"
          ],
          "name": "stdout"
        },
        {
          "output_type": "stream",
          "text": [
            "/usr/local/lib/python3.7/dist-packages/ipykernel_launcher.py:43: RuntimeWarning: divide by zero encountered in log10\n"
          ],
          "name": "stderr"
        },
        {
          "output_type": "stream",
          "text": [
            "1000\n",
            "2000\n",
            "3000\n",
            "4000\n",
            "5000\n",
            "6000\n"
          ],
          "name": "stdout"
        }
      ]
    },
    {
      "cell_type": "code",
      "metadata": {
        "id": "vAS82JcoCkOb"
      },
      "source": [
        "!cp /content/ECGDataset.tfrecords /content/drive/MyDrive/ECG"
      ],
      "execution_count": null,
      "outputs": []
    },
    {
      "cell_type": "code",
      "metadata": {
        "id": "xRz3I-mNEaeJ"
      },
      "source": [
        "dataset=tf.data.TFRecordDataset('ECGDataset.tfrecords')\n",
        "\n",
        "feature_description = {\n",
        "    'recording_id': tf.io.FixedLenFeature([], tf.string),\n",
        "    'data': tf.io.FixedLenSequenceFeature([], tf.float32,allow_missing=True),\n",
        "}\n",
        "\n",
        "def parse_function(example_proto):\n",
        "  return tf.io.parse_single_example(example_proto, feature_description)\n",
        "\n",
        "parsed_dataset = dataset.map(parse_function)\n",
        "\n",
        "\n",
        "for features in parsed_dataset:\n",
        "  data = features['data']"
      ],
      "execution_count": null,
      "outputs": []
    },
    {
      "cell_type": "code",
      "metadata": {
        "colab": {
          "base_uri": "https://localhost:8080/",
          "height": 285
        },
        "id": "8456IhlpILBg",
        "outputId": "50bb64de-2e7c-45f0-de6e-d327b66fe073"
      },
      "source": [
        "new = np.array([data]).reshape(12,129,11)\n",
        "plt.imshow(new[10])"
      ],
      "execution_count": null,
      "outputs": [
        {
          "output_type": "execute_result",
          "data": {
            "text/plain": [
              "<matplotlib.image.AxesImage at 0x7f297a306d10>"
            ]
          },
          "metadata": {
            "tags": []
          },
          "execution_count": 47
        },
        {
          "output_type": "display_data",
          "data": {
            "image/png": "[encoded data removed]",
            "text/plain": [
              "<Figure size 432x288 with 1 Axes>"
            ]
          },
          "metadata": {
            "tags": [],
            "needs_background": "light"
          }
        }
      ]
    }
  ]
}